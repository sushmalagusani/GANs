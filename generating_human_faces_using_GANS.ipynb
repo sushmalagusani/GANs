{
  "nbformat": 4,
  "nbformat_minor": 0,
  "metadata": {
    "colab": {
      "name": "generating human faces using GANS.ipynb",
      "provenance": [],
      "authorship_tag": "ABX9TyN9U3bjc4AKe7iKYVY+58B8",
      "include_colab_link": true
    },
    "kernelspec": {
      "name": "python3",
      "display_name": "Python 3"
    },
    "language_info": {
      "name": "python"
    },
    "accelerator": "GPU"
  },
  "cells": [
    {
      "cell_type": "markdown",
      "metadata": {
        "id": "view-in-github",
        "colab_type": "text"
      },
      "source": [
        "<a href=\"https://colab.research.google.com/github/sushmalagusani/GANs/blob/main/generating_human_faces_using_GANS.ipynb\" target=\"_parent\"><img src=\"https://colab.research.google.com/assets/colab-badge.svg\" alt=\"Open In Colab\"/></a>"
      ]
    },
    {
      "cell_type": "code",
      "metadata": {
        "id": "_0_bBrrGO4uz"
      },
      "source": [
        "def hms_string(sec_elapsed):\n",
        "    h = int(sec_elapsed / (60 * 60))\n",
        "    m = int((sec_elapsed % (60 * 60)) / 60)\n",
        "    s = sec_elapsed % 60\n",
        "    return \"{}:{:>02}:{:>05.2f}\".format(h, m, s)\n"
      ],
      "execution_count": null,
      "outputs": []
    },
    {
      "cell_type": "code",
      "metadata": {
        "id": "7gPEQiHnSs66",
        "colab": {
          "base_uri": "https://localhost:8080/"
        },
        "outputId": "9ecc892f-aea6-4bb7-8b9d-046322a8c9fb"
      },
      "source": [
        "try:\n",
        "    from google.colab import drive\n",
        "    drive.mount('/content/drive', force_remount=True)\n",
        "    COLAB = True\n",
        "    print(\"Note: using Google CoLab\")\n",
        "    %tensorflow_version 2.x\n",
        "except:\n",
        "    print(\"Note: not using Google CoLab\")\n",
        "    COLAB = False\n"
      ],
      "execution_count": null,
      "outputs": [
        {
          "output_type": "stream",
          "text": [
            "Mounted at /content/drive\n",
            "Note: using Google CoLab\n"
          ],
          "name": "stdout"
        }
      ]
    },
    {
      "cell_type": "code",
      "metadata": {
        "id": "H9gIDonxSx_w"
      },
      "source": [
        "import tensorflow as tf\n",
        "from tensorflow.keras.layers import Input, Reshape, Dropout, Dense \n",
        "from tensorflow.keras.layers import Flatten, BatchNormalization\n",
        "from tensorflow.keras.layers import Activation, ZeroPadding2D\n",
        "from tensorflow.keras.layers import LeakyReLU\n",
        "from tensorflow.keras.layers import UpSampling2D, Conv2D\n",
        "from tensorflow.keras.models import Sequential, Model, load_model\n",
        "from tensorflow.keras.optimizers import Adam\n",
        "import numpy as np\n",
        "from PIL import Image\n",
        "from tqdm import tqdm\n",
        "import os \n",
        "import time\n",
        "import matplotlib.pyplot as plt\n"
      ],
      "execution_count": null,
      "outputs": []
    },
    {
      "cell_type": "code",
      "metadata": {
        "colab": {
          "base_uri": "https://localhost:8080/"
        },
        "id": "N1c7GP9cS-B7",
        "outputId": "97b2da53-47d5-448f-b22c-db532dc3bab2"
      },
      "source": [
        "GENERATE_RES = 3 # Generation resolution factor \n",
        "# (1=32, 2=64, 3=96, 4=128, etc.)\n",
        "GENERATE_SQUARE = 32 * GENERATE_RES # rows/cols (should be square)\n",
        "IMAGE_CHANNELS = 3\n",
        "\n",
        "# Preview image \n",
        "PREVIEW_ROWS = 4\n",
        "PREVIEW_COLS = 7\n",
        "PREVIEW_MARGIN = 16\n",
        "\n",
        "# Size vector to generate images from\n",
        "SEED_SIZE = 100\n",
        "\n",
        "# Configuration\n",
        "DATA_PATH = '/content/drive/My Drive/projects/faces'\n",
        "EPOCHS = 200\n",
        "BATCH_SIZE = 32\n",
        "BUFFER_SIZE = 60000\n",
        "\n",
        "print(f\"Will generate {GENERATE_SQUARE}px square images.\")\n"
      ],
      "execution_count": null,
      "outputs": [
        {
          "output_type": "stream",
          "text": [
            "Will generate 96px square images.\n"
          ],
          "name": "stdout"
        }
      ]
    },
    {
      "cell_type": "code",
      "metadata": {
        "colab": {
          "base_uri": "https://localhost:8080/"
        },
        "id": "Zyakp_9yTEs0",
        "outputId": "725d71d7-7b90-414d-df8c-5ab90b6cec71"
      },
      "source": [
        "training_binary_path = os.path.join(DATA_PATH,\n",
        "        f'training_data_{GENERATE_SQUARE}_{GENERATE_SQUARE}.npy')\n",
        "\n",
        "print(f\"Looking for file: {training_binary_path}\")\n",
        "\n",
        "if not os.path.isfile(training_binary_path):\n",
        "  start = time.time()\n",
        "  print(\"Loading training images...\")\n",
        "\n",
        "  training_data = []\n",
        "  faces_path = os.path.join(DATA_PATH,'face_images')\n",
        "  for filename in tqdm(os.listdir(faces_path)):\n",
        "      path = os.path.join(faces_path,filename)\n",
        "      image = Image.open(path).resize((GENERATE_SQUARE,\n",
        "            GENERATE_SQUARE),Image.ANTIALIAS)\n",
        "      training_data.append(np.asarray(image))\n",
        "  training_data = np.reshape(training_data,(-1,GENERATE_SQUARE,\n",
        "            GENERATE_SQUARE,IMAGE_CHANNELS))\n",
        "  training_data = training_data.astype(np.float32)\n",
        "  training_data = training_data / 127.5 - 1.\n",
        "\n",
        "\n",
        "  print(\"Saving training image binary...\")\n",
        "  np.save(training_binary_path,training_data)\n",
        "  elapsed = time.time()-start\n",
        "  print (f'Image preprocess time: {hms_string(elapsed)}')\n",
        "else:\n",
        "  print(\"Loading previous training pickle...\")\n",
        "  training_data = np.load(training_binary_path)\n"
      ],
      "execution_count": null,
      "outputs": [
        {
          "output_type": "stream",
          "text": [
            "Looking for file: /content/drive/My Drive/projects/faces/training_data_96_96.npy\n",
            "Loading previous training pickle...\n"
          ],
          "name": "stdout"
        }
      ]
    },
    {
      "cell_type": "code",
      "metadata": {
        "id": "FkbRIzNCTM_5"
      },
      "source": [
        "train_dataset = tf.data.Dataset.from_tensor_slices(training_data) \\\n",
        "    .shuffle(BUFFER_SIZE).batch(BATCH_SIZE)"
      ],
      "execution_count": null,
      "outputs": []
    },
    {
      "cell_type": "code",
      "metadata": {
        "id": "2nXUip4FTRPx"
      },
      "source": [
        "def build_generator(seed_size, channels):  \n",
        "    model = Sequential()\n",
        "    model.add(Dense(4*4*256,activation=\"relu\",input_dim=seed_size))\n",
        "    model.add(Reshape((4,4,256)))\n",
        "\n",
        "    model.add(UpSampling2D())\n",
        "    model.add(Conv2D(256,kernel_size=3,padding=\"same\"))\n",
        "    model.add(BatchNormalization(momentum=0.8))\n",
        "    model.add(Activation(\"relu\"))\n",
        "\n",
        "    model.add(UpSampling2D())\n",
        "    model.add(Conv2D(256,kernel_size=3,padding=\"same\"))\n",
        "    model.add(BatchNormalization(momentum=0.8))\n",
        "    model.add(Activation(\"relu\"))\n",
        "   \n",
        "    # Output resolution, additional upsampling\n",
        "    model.add(UpSampling2D())\n",
        "    model.add(Conv2D(128,kernel_size=3,padding=\"same\"))\n",
        "    model.add(BatchNormalization(momentum=0.8))\n",
        "    model.add(Activation(\"relu\"))\n",
        "    if GENERATE_RES>1:\n",
        "      model.add(UpSampling2D(size=(GENERATE_RES,GENERATE_RES)))\n",
        "      model.add(Conv2D(128,kernel_size=3,padding=\"same\"))\n",
        "      model.add(BatchNormalization(momentum=0.8))\n",
        "      model.add(Activation(\"relu\"))\n",
        "\n",
        "    # Final CNN layer\n",
        "    model.add(Conv2D(channels,kernel_size=3,padding=\"same\"))\n",
        "    model.add(Activation(\"tanh\"))\n",
        "    return model\n",
        "\n",
        "\n",
        "def build_discriminator(image_shape):\n",
        "    model = Sequential()\n",
        "    model.add(Conv2D(32, kernel_size=3, strides=2, input_shape=image_shape, \n",
        "                     padding=\"same\"))\n",
        "    model.add(LeakyReLU(alpha=0.2))\n",
        "\n",
        "    model.add(Dropout(0.25))\n",
        "    model.add(Conv2D(64, kernel_size=3, strides=2, padding=\"same\"))\n",
        "    model.add(ZeroPadding2D(padding=((0,1),(0,1))))\n",
        "    model.add(BatchNormalization(momentum=0.8))\n",
        "    model.add(LeakyReLU(alpha=0.2))\n",
        "\n",
        "    model.add(Dropout(0.25))\n",
        "    model.add(Conv2D(128, kernel_size=3, strides=2, padding=\"same\"))\n",
        "    model.add(BatchNormalization(momentum=0.8))\n",
        "    model.add(LeakyReLU(alpha=0.2))\n",
        "\n",
        "    model.add(Dropout(0.25))\n",
        "    model.add(Conv2D(256, kernel_size=3, strides=1, padding=\"same\"))\n",
        "    model.add(BatchNormalization(momentum=0.8))\n",
        "    model.add(LeakyReLU(alpha=0.2))\n",
        "\n",
        "    model.add(Dropout(0.25))\n",
        "    model.add(Conv2D(512, kernel_size=3, strides=1, padding=\"same\"))\n",
        "    model.add(BatchNormalization(momentum=0.8))\n",
        "    model.add(LeakyReLU(alpha=0.2))\n",
        "\n",
        "    model.add(Dropout(0.25))\n",
        "    model.add(Flatten())\n",
        "    model.add(Dense(1, activation='sigmoid'))\n",
        "    return model\n"
      ],
      "execution_count": null,
      "outputs": []
    },
    {
      "cell_type": "code",
      "metadata": {
        "id": "7TtIj34vTXxo"
      },
      "source": [
        "def save_images(cnt,noise):\n",
        "  image_array = np.full(( \n",
        "      PREVIEW_MARGIN + (PREVIEW_ROWS * (GENERATE_SQUARE+PREVIEW_MARGIN)), \n",
        "      PREVIEW_MARGIN + (PREVIEW_COLS * (GENERATE_SQUARE+PREVIEW_MARGIN)), 3), \n",
        "      255, dtype=np.uint8)\n",
        "  \n",
        "  generated_images = generator.predict(noise)\n",
        "\n",
        "  generated_images = 0.5 * generated_images + 0.5\n",
        "\n",
        "  image_count = 0\n",
        "  for row in range(PREVIEW_ROWS):\n",
        "      for col in range(PREVIEW_COLS):\n",
        "        r = row * (GENERATE_SQUARE+16) + PREVIEW_MARGIN\n",
        "        c = col * (GENERATE_SQUARE+16) + PREVIEW_MARGIN\n",
        "        image_array[r:r+GENERATE_SQUARE,c:c+GENERATE_SQUARE] \\\n",
        "            = generated_images[image_count] * 255\n",
        "        image_count += 1\n",
        "\n",
        "          \n",
        "  output_path = os.path.join(DATA_PATH,'output')\n",
        "  if not os.path.exists(output_path):\n",
        "    os.makedirs(output_path)\n",
        "  \n",
        "  filename = os.path.join(output_path,f\"train-{cnt}.png\")\n",
        "  im = Image.fromarray(image_array)\n",
        "  im.save(filename)\n"
      ],
      "execution_count": null,
      "outputs": []
    },
    {
      "cell_type": "code",
      "metadata": {
        "colab": {
          "base_uri": "https://localhost:8080/",
          "height": 285
        },
        "id": "jD9AmWOqTdhW",
        "outputId": "402df64b-2077-404b-84fa-18786c8dd404"
      },
      "source": [
        "generator = build_generator(SEED_SIZE, IMAGE_CHANNELS)\n",
        "\n",
        "noise = tf.random.normal([1, SEED_SIZE])\n",
        "generated_image = generator(noise, training=False)\n",
        "\n",
        "plt.imshow(generated_image[0, :, :, 0])"
      ],
      "execution_count": null,
      "outputs": [
        {
          "output_type": "execute_result",
          "data": {
            "text/plain": [
              "<matplotlib.image.AxesImage at 0x7f4a302d7410>"
            ]
          },
          "metadata": {
            "tags": []
          },
          "execution_count": 9
        },
        {
          "output_type": "display_data",
          "data": {
            "image/png": "[encoded data removed]",
            "text/plain": [
              "<Figure size 432x288 with 1 Axes>"
            ]
          },
          "metadata": {
            "tags": [],
            "needs_background": "light"
          }
        }
      ]
    },
    {
      "cell_type": "code",
      "metadata": {
        "colab": {
          "base_uri": "https://localhost:8080/"
        },
        "id": "TWpOx-o_Thhj",
        "outputId": "df9dec5c-1939-42f1-8ad9-87b3181d1ea2"
      },
      "source": [
        "image_shape = (GENERATE_SQUARE,GENERATE_SQUARE,IMAGE_CHANNELS)\n",
        "\n",
        "discriminator = build_discriminator(image_shape)\n",
        "decision = discriminator(generated_image)\n",
        "print (decision)\n"
      ],
      "execution_count": null,
      "outputs": [
        {
          "output_type": "stream",
          "text": [
            "tf.Tensor([[0.49906656]], shape=(1, 1), dtype=float32)\n"
          ],
          "name": "stdout"
        }
      ]
    },
    {
      "cell_type": "code",
      "metadata": {
        "id": "aD7PtXKJTxOR"
      },
      "source": [
        "cross_entropy = tf.keras.losses.BinaryCrossentropy()\n",
        "def discriminator_loss(real_output, fake_output):\n",
        "    real_loss = cross_entropy(tf.ones_like(real_output), real_output)\n",
        "    fake_loss = cross_entropy(tf.zeros_like(fake_output), fake_output)\n",
        "    total_loss = real_loss + fake_loss\n",
        "    return total_loss\n",
        "def generator_loss(fake_output):\n",
        "    return cross_entropy(tf.ones_like(fake_output), fake_output)\n"
      ],
      "execution_count": null,
      "outputs": []
    },
    {
      "cell_type": "code",
      "metadata": {
        "id": "akYjJo_sT3f6"
      },
      "source": [
        "generator_optimizer = tf.keras.optimizers.Adam(1.5e-4,0.5)\n",
        "discriminator_optimizer = tf.keras.optimizers.Adam(1.5e-4,0.5)\n"
      ],
      "execution_count": null,
      "outputs": []
    },
    {
      "cell_type": "code",
      "metadata": {
        "id": "Y_xpH8oaT6s9"
      },
      "source": [
        "@tf.function\n",
        "def train_step(images):\n",
        "  seed = tf.random.normal([BATCH_SIZE, SEED_SIZE])\n",
        "  with tf.GradientTape() as gen_tape, tf.GradientTape() as disc_tape:\n",
        "    generated_images = generator(seed, training=True)\n",
        "    real_output = discriminator(images, training=True)\n",
        "    fake_output = discriminator(generated_images, training=True)\n",
        "    gen_loss = generator_loss(fake_output)\n",
        "    disc_loss = discriminator_loss(real_output, fake_output)\n",
        "    gradients_of_generator = gen_tape.gradient(\\\n",
        "        gen_loss, generator.trainable_variables)\n",
        "    gradients_of_discriminator = disc_tape.gradient(\\\n",
        "        disc_loss, discriminator.trainable_variables)\n",
        "    generator_optimizer.apply_gradients(zip(\n",
        "        gradients_of_generator, generator.trainable_variables))\n",
        "    discriminator_optimizer.apply_gradients(zip(\n",
        "        gradients_of_discriminator, \n",
        "        discriminator.trainable_variables))\n",
        "  return gen_loss,disc_loss\n"
      ],
      "execution_count": null,
      "outputs": []
    },
    {
      "cell_type": "code",
      "metadata": {
        "id": "WDzVn5IeT_ST"
      },
      "source": [
        "def train(dataset, epochs):\n",
        "  fixed_seed = np.random.normal(0, 1, (PREVIEW_ROWS * PREVIEW_COLS, \n",
        "                                       SEED_SIZE))\n",
        "  start = time.time()\n",
        "  for epoch in range(epochs):\n",
        "    epoch_start = time.time()\n",
        "\n",
        "    gen_loss_list = []\n",
        "    disc_loss_list = []\n",
        "    \n",
        "    for image_batch in dataset:\n",
        "      t = train_step(image_batch)\n",
        "      gen_loss_list.append(t[0])\n",
        "      disc_loss_list.append(t[1])\n",
        "\n",
        "    g_loss = sum(gen_loss_list) / len(gen_loss_list)\n",
        "    d_loss = sum(disc_loss_list) / len(disc_loss_list)\n",
        "\n",
        "    epoch_elapsed = time.time()-epoch_start\n",
        "    print (f'Epoch {epoch+1}, gen loss={g_loss},disc loss={d_loss}' )\n",
        "    save_images(epoch,fixed_seed)\n",
        "\n",
        "  elapsed = time.time()-start\n",
        "  print (f'Training time: {hms_string(elapsed)}')"
      ],
      "execution_count": null,
      "outputs": []
    },
    {
      "cell_type": "code",
      "metadata": {
        "colab": {
          "base_uri": "https://localhost:8080/"
        },
        "id": "TNs0oNVGUD4I",
        "outputId": "e047aeb6-0771-4946-a1ef-9b1fa27a7848"
      },
      "source": [
        "train(train_dataset, EPOCHS)"
      ],
      "execution_count": null,
      "outputs": [
        {
          "output_type": "stream",
          "text": [
            "Epoch 1, gen loss=1.2624247074127197,disc loss=1.2305188179016113\n",
            "Epoch 2, gen loss=1.9718841314315796,disc loss=0.7799109816551208\n",
            "Epoch 3, gen loss=1.7185264825820923,disc loss=0.9715474843978882\n",
            "Epoch 4, gen loss=1.9413782358169556,disc loss=0.7483776211738586\n",
            "Epoch 5, gen loss=2.262240171432495,disc loss=0.6676024198532104\n",
            "Epoch 6, gen loss=2.7176105976104736,disc loss=0.6217721700668335\n",
            "Epoch 7, gen loss=2.2600650787353516,disc loss=1.1946302652359009\n",
            "Epoch 8, gen loss=2.485494375228882,disc loss=1.1147953271865845\n",
            "Epoch 9, gen loss=2.651789426803589,disc loss=0.6592569947242737\n",
            "Epoch 10, gen loss=2.6165823936462402,disc loss=0.9466538429260254\n",
            "Epoch 11, gen loss=2.534000873565674,disc loss=1.0509008169174194\n",
            "Epoch 12, gen loss=2.9077115058898926,disc loss=1.012033462524414\n",
            "Epoch 13, gen loss=2.624969005584717,disc loss=1.0385282039642334\n",
            "Epoch 14, gen loss=2.624636173248291,disc loss=1.392334222793579\n",
            "Epoch 15, gen loss=2.7566800117492676,disc loss=0.7745940685272217\n",
            "Epoch 16, gen loss=2.667475938796997,disc loss=0.7110517024993896\n",
            "Epoch 17, gen loss=2.456986904144287,disc loss=1.1673322916030884\n",
            "Epoch 18, gen loss=2.330225706100464,disc loss=1.4695513248443604\n",
            "Epoch 19, gen loss=2.5314743518829346,disc loss=0.8510252237319946\n",
            "Epoch 20, gen loss=3.1207494735717773,disc loss=0.8038131594657898\n",
            "Epoch 21, gen loss=2.2890191078186035,disc loss=1.1472333669662476\n",
            "Epoch 22, gen loss=2.891470193862915,disc loss=1.14961576461792\n",
            "Epoch 23, gen loss=3.681323528289795,disc loss=1.1090786457061768\n",
            "Epoch 24, gen loss=3.922616481781006,disc loss=1.1751359701156616\n",
            "Epoch 25, gen loss=2.6299099922180176,disc loss=1.1489531993865967\n",
            "Epoch 26, gen loss=3.3095335960388184,disc loss=0.9499781727790833\n",
            "Epoch 27, gen loss=2.637315034866333,disc loss=1.0141723155975342\n",
            "Epoch 28, gen loss=2.9279701709747314,disc loss=0.6778972148895264\n",
            "Epoch 29, gen loss=2.9362587928771973,disc loss=0.6666088104248047\n",
            "Epoch 30, gen loss=2.448883295059204,disc loss=1.1409218311309814\n",
            "Epoch 31, gen loss=3.1511151790618896,disc loss=1.1401870250701904\n",
            "Epoch 32, gen loss=3.873415470123291,disc loss=0.6618319749832153\n",
            "Epoch 33, gen loss=3.0076663494110107,disc loss=0.9931350946426392\n",
            "Epoch 34, gen loss=2.74519419670105,disc loss=0.8418148159980774\n",
            "Epoch 35, gen loss=3.567955732345581,disc loss=0.6171655654907227\n",
            "Epoch 36, gen loss=3.0802013874053955,disc loss=1.0575168132781982\n",
            "Epoch 37, gen loss=3.4619667530059814,disc loss=0.8059316873550415\n",
            "Epoch 38, gen loss=3.915729522705078,disc loss=1.3327136039733887\n",
            "Epoch 39, gen loss=3.0798280239105225,disc loss=0.7142873406410217\n",
            "Epoch 40, gen loss=3.3984012603759766,disc loss=0.6904555559158325\n",
            "Epoch 41, gen loss=3.1362626552581787,disc loss=1.1294746398925781\n",
            "Epoch 42, gen loss=3.467444896697998,disc loss=0.5011236667633057\n",
            "Epoch 43, gen loss=3.294588088989258,disc loss=0.9811444282531738\n",
            "Epoch 44, gen loss=3.0660064220428467,disc loss=0.7626136541366577\n",
            "Epoch 45, gen loss=3.652341365814209,disc loss=0.6762208938598633\n",
            "Epoch 46, gen loss=3.2118327617645264,disc loss=0.7987308502197266\n",
            "Epoch 47, gen loss=3.2656102180480957,disc loss=0.5416767597198486\n",
            "Epoch 48, gen loss=3.342161178588867,disc loss=0.6581121683120728\n",
            "Epoch 49, gen loss=3.4624900817871094,disc loss=0.709517240524292\n",
            "Epoch 50, gen loss=3.453033924102783,disc loss=0.5127701163291931\n",
            "Epoch 51, gen loss=3.225200653076172,disc loss=0.9117057919502258\n",
            "Epoch 52, gen loss=2.8758442401885986,disc loss=0.8908373117446899\n",
            "Epoch 53, gen loss=3.0285329818725586,disc loss=1.042493462562561\n",
            "Epoch 54, gen loss=3.8396008014678955,disc loss=0.4815516471862793\n",
            "Epoch 55, gen loss=3.02308988571167,disc loss=0.8161516189575195\n",
            "Epoch 56, gen loss=4.043015956878662,disc loss=1.0136544704437256\n",
            "Epoch 57, gen loss=3.5191383361816406,disc loss=0.5370219349861145\n",
            "Epoch 58, gen loss=3.315258741378784,disc loss=0.6873951554298401\n",
            "Epoch 59, gen loss=3.7088418006896973,disc loss=0.7665483355522156\n",
            "Epoch 60, gen loss=3.73014760017395,disc loss=1.0485808849334717\n",
            "Epoch 61, gen loss=4.131997585296631,disc loss=0.5971020460128784\n",
            "Epoch 62, gen loss=4.223872184753418,disc loss=0.8606196641921997\n",
            "Epoch 63, gen loss=4.325502395629883,disc loss=0.7061285376548767\n",
            "Epoch 64, gen loss=3.2632834911346436,disc loss=0.6453442573547363\n",
            "Epoch 65, gen loss=3.449753522872925,disc loss=0.5369462370872498\n",
            "Epoch 66, gen loss=3.5686919689178467,disc loss=0.6024050116539001\n",
            "Epoch 67, gen loss=3.096531867980957,disc loss=0.8174647092819214\n",
            "Epoch 68, gen loss=4.827583312988281,disc loss=0.7250877618789673\n",
            "Epoch 69, gen loss=5.340743541717529,disc loss=1.3286097049713135\n",
            "Epoch 70, gen loss=4.485187530517578,disc loss=0.8404147028923035\n",
            "Epoch 71, gen loss=5.137998104095459,disc loss=0.6296458840370178\n",
            "Epoch 72, gen loss=4.40559720993042,disc loss=0.5004890561103821\n",
            "Epoch 73, gen loss=4.036959171295166,disc loss=0.4901242256164551\n",
            "Epoch 74, gen loss=4.358395099639893,disc loss=0.3599793314933777\n",
            "Epoch 75, gen loss=3.582831859588623,disc loss=0.38413357734680176\n",
            "Epoch 76, gen loss=4.251235485076904,disc loss=0.44972047209739685\n",
            "Epoch 77, gen loss=3.868457794189453,disc loss=0.7742509245872498\n",
            "Epoch 78, gen loss=4.456834316253662,disc loss=0.6857510209083557\n",
            "Epoch 79, gen loss=4.665161609649658,disc loss=0.44181472063064575\n",
            "Epoch 80, gen loss=4.529554843902588,disc loss=0.43829378485679626\n",
            "Epoch 81, gen loss=3.5199265480041504,disc loss=0.6443755030632019\n",
            "Epoch 82, gen loss=3.889582395553589,disc loss=0.8569695353507996\n",
            "Epoch 83, gen loss=4.397208213806152,disc loss=0.585734486579895\n",
            "Epoch 84, gen loss=4.129875659942627,disc loss=0.8415539860725403\n",
            "Epoch 85, gen loss=4.7195611000061035,disc loss=0.4312156140804291\n",
            "Epoch 86, gen loss=3.9403648376464844,disc loss=0.6013233065605164\n",
            "Epoch 87, gen loss=4.366231441497803,disc loss=0.3544612526893616\n",
            "Epoch 88, gen loss=5.614617824554443,disc loss=0.7469934225082397\n",
            "Epoch 89, gen loss=4.037550926208496,disc loss=0.7516834139823914\n",
            "Epoch 90, gen loss=3.8058342933654785,disc loss=0.5570239424705505\n",
            "Epoch 91, gen loss=3.5606982707977295,disc loss=0.535920262336731\n",
            "Epoch 92, gen loss=4.3994317054748535,disc loss=0.2623070478439331\n",
            "Epoch 93, gen loss=4.920454025268555,disc loss=0.56523197889328\n",
            "Epoch 94, gen loss=4.08341646194458,disc loss=0.8551353216171265\n",
            "Epoch 95, gen loss=3.568267822265625,disc loss=0.5837386846542358\n",
            "Epoch 96, gen loss=5.086211204528809,disc loss=0.8265425562858582\n",
            "Epoch 97, gen loss=3.674525737762451,disc loss=0.4017104506492615\n",
            "Epoch 98, gen loss=4.950893402099609,disc loss=0.6019691228866577\n",
            "Epoch 99, gen loss=4.33275032043457,disc loss=0.5415253043174744\n",
            "Epoch 100, gen loss=4.4781270027160645,disc loss=0.8162412643432617\n",
            "Epoch 101, gen loss=4.1142401695251465,disc loss=0.6939064264297485\n",
            "Epoch 102, gen loss=4.985448837280273,disc loss=0.5188926458358765\n",
            "Epoch 103, gen loss=4.592008590698242,disc loss=0.538098931312561\n",
            "Epoch 104, gen loss=3.7020459175109863,disc loss=0.8741704225540161\n",
            "Epoch 105, gen loss=5.043346881866455,disc loss=0.672580361366272\n",
            "Epoch 106, gen loss=3.6740238666534424,disc loss=0.7096269130706787\n",
            "Epoch 107, gen loss=4.4695143699646,disc loss=0.8347299695014954\n",
            "Epoch 108, gen loss=4.967153072357178,disc loss=0.37362203001976013\n",
            "Epoch 109, gen loss=4.0511274337768555,disc loss=0.6168992519378662\n",
            "Epoch 110, gen loss=4.165828704833984,disc loss=0.9768681526184082\n",
            "Epoch 111, gen loss=3.680968761444092,disc loss=0.6732308864593506\n",
            "Epoch 112, gen loss=3.6083343029022217,disc loss=0.9910625219345093\n",
            "Epoch 113, gen loss=3.644066333770752,disc loss=0.7203330993652344\n",
            "Epoch 114, gen loss=3.924027919769287,disc loss=0.7468966245651245\n",
            "Epoch 115, gen loss=4.255739212036133,disc loss=0.4211806654930115\n",
            "Epoch 116, gen loss=3.9534060955047607,disc loss=0.8368697166442871\n",
            "Epoch 117, gen loss=4.487803936004639,disc loss=0.4683254659175873\n",
            "Epoch 118, gen loss=4.40803337097168,disc loss=0.8237378001213074\n",
            "Epoch 119, gen loss=4.232361793518066,disc loss=0.8645280003547668\n",
            "Epoch 120, gen loss=4.455662727355957,disc loss=0.4814551770687103\n",
            "Epoch 121, gen loss=4.392942905426025,disc loss=0.4486251771450043\n",
            "Epoch 122, gen loss=4.561427116394043,disc loss=0.5384410619735718\n",
            "Epoch 123, gen loss=3.8579344749450684,disc loss=0.6022204160690308\n",
            "Epoch 124, gen loss=6.1239213943481445,disc loss=0.7129148244857788\n",
            "Epoch 125, gen loss=4.357513904571533,disc loss=0.37060678005218506\n",
            "Epoch 126, gen loss=5.142059803009033,disc loss=1.0267781019210815\n",
            "Epoch 127, gen loss=3.3532776832580566,disc loss=0.7783459424972534\n",
            "Epoch 128, gen loss=4.39142370223999,disc loss=0.3828098177909851\n",
            "Epoch 129, gen loss=4.557904243469238,disc loss=0.5860046148300171\n",
            "Epoch 130, gen loss=3.383141040802002,disc loss=0.6693452596664429\n",
            "Epoch 131, gen loss=3.9910061359405518,disc loss=0.5000460147857666\n",
            "Epoch 132, gen loss=3.793590545654297,disc loss=0.4352947771549225\n",
            "Epoch 133, gen loss=4.625156402587891,disc loss=0.4846422076225281\n",
            "Epoch 134, gen loss=5.408187389373779,disc loss=0.7796597480773926\n",
            "Epoch 135, gen loss=3.3089587688446045,disc loss=0.5489974617958069\n",
            "Epoch 136, gen loss=4.969798564910889,disc loss=0.3969572186470032\n",
            "Epoch 137, gen loss=3.9167423248291016,disc loss=0.6001119613647461\n",
            "Epoch 138, gen loss=5.347870826721191,disc loss=0.9976515769958496\n",
            "Epoch 139, gen loss=4.826178073883057,disc loss=0.3739868700504303\n",
            "Epoch 140, gen loss=4.381308555603027,disc loss=0.36634761095046997\n",
            "Epoch 141, gen loss=4.851309299468994,disc loss=0.3630312979221344\n",
            "Epoch 142, gen loss=6.164781093597412,disc loss=0.9430806040763855\n",
            "Epoch 143, gen loss=5.751905918121338,disc loss=0.2643977999687195\n",
            "Epoch 144, gen loss=4.38680362701416,disc loss=0.3294515907764435\n",
            "Epoch 145, gen loss=4.525440692901611,disc loss=0.4146730303764343\n",
            "Epoch 146, gen loss=4.563808441162109,disc loss=0.5010724067687988\n",
            "Epoch 147, gen loss=4.057188510894775,disc loss=0.4125732481479645\n",
            "Epoch 148, gen loss=4.73471736907959,disc loss=0.34992656111717224\n",
            "Epoch 149, gen loss=4.381274700164795,disc loss=0.3830365538597107\n",
            "Epoch 150, gen loss=4.1332688331604,disc loss=0.48718732595443726\n",
            "Epoch 151, gen loss=4.698815822601318,disc loss=0.5630128979682922\n",
            "Epoch 152, gen loss=4.105702877044678,disc loss=0.5819100737571716\n",
            "Epoch 153, gen loss=5.032627105712891,disc loss=1.0634098052978516\n",
            "Epoch 154, gen loss=4.698566913604736,disc loss=0.5432143211364746\n",
            "Epoch 155, gen loss=5.160273551940918,disc loss=0.5002557635307312\n",
            "Epoch 156, gen loss=4.480338096618652,disc loss=0.46095094084739685\n",
            "Epoch 157, gen loss=4.456965446472168,disc loss=0.36373504996299744\n",
            "Epoch 158, gen loss=4.125535488128662,disc loss=0.4768311381340027\n",
            "Epoch 159, gen loss=5.7014265060424805,disc loss=0.9722576141357422\n",
            "Epoch 160, gen loss=3.9612038135528564,disc loss=0.4292791485786438\n",
            "Epoch 161, gen loss=4.491565227508545,disc loss=0.35047945380210876\n",
            "Epoch 162, gen loss=4.327658653259277,disc loss=0.49377211928367615\n",
            "Epoch 163, gen loss=5.050411701202393,disc loss=1.1133787631988525\n",
            "Epoch 164, gen loss=6.193180084228516,disc loss=1.0701677799224854\n",
            "Epoch 165, gen loss=4.544653415679932,disc loss=0.7681632041931152\n",
            "Epoch 166, gen loss=6.077252388000488,disc loss=0.9262143969535828\n",
            "Epoch 167, gen loss=4.613513469696045,disc loss=0.7048096656799316\n",
            "Epoch 168, gen loss=5.058398246765137,disc loss=0.4589468538761139\n",
            "Epoch 169, gen loss=3.94822359085083,disc loss=0.5079342126846313\n",
            "Epoch 170, gen loss=6.4791741371154785,disc loss=0.551639199256897\n",
            "Epoch 171, gen loss=4.307987213134766,disc loss=0.5413025617599487\n",
            "Epoch 172, gen loss=4.167827606201172,disc loss=0.3885212540626526\n",
            "Epoch 173, gen loss=6.096552848815918,disc loss=0.3166508674621582\n",
            "Epoch 174, gen loss=5.2570390701293945,disc loss=0.4220926761627197\n",
            "Epoch 175, gen loss=3.9523262977600098,disc loss=0.5256115198135376\n",
            "Epoch 176, gen loss=4.883200168609619,disc loss=0.4709102511405945\n",
            "Epoch 177, gen loss=4.552437782287598,disc loss=0.40120401978492737\n",
            "Epoch 178, gen loss=5.2188496589660645,disc loss=0.255801260471344\n",
            "Epoch 179, gen loss=4.446390628814697,disc loss=0.29174867272377014\n",
            "Epoch 180, gen loss=5.552924156188965,disc loss=0.4232703149318695\n",
            "Epoch 181, gen loss=4.747966289520264,disc loss=0.17250174283981323\n",
            "Epoch 182, gen loss=4.253265380859375,disc loss=0.33667248487472534\n",
            "Epoch 183, gen loss=5.686901569366455,disc loss=0.3284072279930115\n",
            "Epoch 184, gen loss=4.927290916442871,disc loss=0.5954252481460571\n",
            "Epoch 185, gen loss=6.9262800216674805,disc loss=0.7978016138076782\n",
            "Epoch 186, gen loss=7.410933494567871,disc loss=1.2908490896224976\n",
            "Epoch 187, gen loss=5.0443854331970215,disc loss=0.5563408732414246\n",
            "Epoch 188, gen loss=4.858968257904053,disc loss=0.33857405185699463\n",
            "Epoch 189, gen loss=6.1597418785095215,disc loss=0.17761224508285522\n",
            "Epoch 190, gen loss=5.7061333656311035,disc loss=0.3541274070739746\n",
            "Epoch 191, gen loss=5.04094934463501,disc loss=0.8702251315116882\n",
            "Epoch 192, gen loss=4.691410541534424,disc loss=0.34185779094696045\n",
            "Epoch 193, gen loss=4.446249008178711,disc loss=0.3547017574310303\n",
            "Epoch 194, gen loss=7.41229248046875,disc loss=0.7905716896057129\n",
            "Epoch 195, gen loss=4.212327003479004,disc loss=0.5330058932304382\n",
            "Epoch 196, gen loss=6.490535736083984,disc loss=0.3790055513381958\n",
            "Epoch 197, gen loss=6.124847412109375,disc loss=0.5130024552345276\n",
            "Epoch 198, gen loss=5.0860772132873535,disc loss=0.36506494879722595\n",
            "Epoch 199, gen loss=4.666892051696777,disc loss=0.6026607155799866\n",
            "Epoch 200, gen loss=4.872519016265869,disc loss=0.6293227076530457\n",
            "Training time: 0:05:50.02\n"
          ],
          "name": "stdout"
        }
      ]
    },
    {
      "cell_type": "code",
      "metadata": {
        "id": "SA-jmWYMbTEy"
      },
      "source": [
        ""
      ],
      "execution_count": null,
      "outputs": []
    }
  ]
}